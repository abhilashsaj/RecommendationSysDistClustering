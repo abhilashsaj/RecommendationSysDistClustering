{
 "cells": [
  {
   "cell_type": "code",
   "execution_count": 3,
   "metadata": {},
   "outputs": [],
   "source": [
    "import pandas as pd\n",
    "import numpy as np\n",
    "from sklearn.cluster import KMeans\n",
    "from sklearn.preprocessing import LabelEncoder\n",
    "from sklearn.preprocessing import MinMaxScaler\n",
    "import seaborn as sns\n",
    "import matplotlib.pyplot as plt\n",
    "%matplotlib inline"
   ]
  },
  {
   "cell_type": "code",
   "execution_count": 4,
   "metadata": {
    "scrolled": true
   },
   "outputs": [
    {
     "name": "stderr",
     "output_type": "stream",
     "text": [
      "C:\\ProgramData\\Anaconda3\\lib\\site-packages\\IPython\\core\\interactiveshell.py:2785: DtypeWarning: Columns (2,7) have mixed types. Specify dtype option on import or set low_memory=False.\n",
      "  interactivity=interactivity, compiler=compiler, result=result)\n"
     ]
    }
   ],
   "source": [
    "address_url = \"C:/Users/abhil/Desktop/Python/DataSet/hi.csv\"\n",
    "address = pd.read_csv(address_url)"
   ]
  },
  {
   "cell_type": "code",
   "execution_count": 9,
   "metadata": {},
   "outputs": [
    {
     "data": {
      "text/html": [
       "<div>\n",
       "<style scoped>\n",
       "    .dataframe tbody tr th:only-of-type {\n",
       "        vertical-align: middle;\n",
       "    }\n",
       "\n",
       "    .dataframe tbody tr th {\n",
       "        vertical-align: top;\n",
       "    }\n",
       "\n",
       "    .dataframe thead th {\n",
       "        text-align: right;\n",
       "    }\n",
       "</style>\n",
       "<table border=\"1\" class=\"dataframe\">\n",
       "  <thead>\n",
       "    <tr style=\"text-align: right;\">\n",
       "      <th></th>\n",
       "      <th>LON</th>\n",
       "      <th>LAT</th>\n",
       "      <th>NUMBER</th>\n",
       "      <th>STREET</th>\n",
       "      <th>UNIT</th>\n",
       "      <th>CITY</th>\n",
       "      <th>DISTRICT</th>\n",
       "      <th>REGION</th>\n",
       "      <th>POSTCODE</th>\n",
       "      <th>ID</th>\n",
       "      <th>HASH</th>\n",
       "    </tr>\n",
       "  </thead>\n",
       "  <tbody>\n",
       "    <tr>\n",
       "      <th>0</th>\n",
       "      <td>-108.916154</td>\n",
       "      <td>40.067681</td>\n",
       "      <td>6849</td>\n",
       "      <td>NaN</td>\n",
       "      <td>NaN</td>\n",
       "      <td>RANGELY</td>\n",
       "      <td>NaN</td>\n",
       "      <td>NaN</td>\n",
       "      <td>0</td>\n",
       "      <td>NaN</td>\n",
       "      <td>7225222c76e3151e</td>\n",
       "    </tr>\n",
       "    <tr>\n",
       "      <th>1</th>\n",
       "      <td>-108.916840</td>\n",
       "      <td>40.068216</td>\n",
       "      <td>NaN</td>\n",
       "      <td>NaN</td>\n",
       "      <td>NaN</td>\n",
       "      <td>RANGELY</td>\n",
       "      <td>NaN</td>\n",
       "      <td>NaN</td>\n",
       "      <td>0</td>\n",
       "      <td>NaN</td>\n",
       "      <td>2610a0c6adf8f59d</td>\n",
       "    </tr>\n",
       "    <tr>\n",
       "      <th>2</th>\n",
       "      <td>-108.754104</td>\n",
       "      <td>40.091879</td>\n",
       "      <td>2252</td>\n",
       "      <td>NaN</td>\n",
       "      <td>NaN</td>\n",
       "      <td>RANGELY</td>\n",
       "      <td>NaN</td>\n",
       "      <td>NaN</td>\n",
       "      <td>0</td>\n",
       "      <td>NaN</td>\n",
       "      <td>5b9bb573939e24fe</td>\n",
       "    </tr>\n",
       "    <tr>\n",
       "      <th>3</th>\n",
       "      <td>-108.750019</td>\n",
       "      <td>40.099442</td>\n",
       "      <td>2538</td>\n",
       "      <td>NaN</td>\n",
       "      <td>NaN</td>\n",
       "      <td>RANGELY</td>\n",
       "      <td>NaN</td>\n",
       "      <td>NaN</td>\n",
       "      <td>0</td>\n",
       "      <td>NaN</td>\n",
       "      <td>de0357268651fc57</td>\n",
       "    </tr>\n",
       "    <tr>\n",
       "      <th>4</th>\n",
       "      <td>-108.745891</td>\n",
       "      <td>40.099260</td>\n",
       "      <td>2802</td>\n",
       "      <td>Highway 64</td>\n",
       "      <td>NaN</td>\n",
       "      <td>RANGELY</td>\n",
       "      <td>NaN</td>\n",
       "      <td>NaN</td>\n",
       "      <td>81648</td>\n",
       "      <td>NaN</td>\n",
       "      <td>abce82e528541afb</td>\n",
       "    </tr>\n",
       "    <tr>\n",
       "      <th>5</th>\n",
       "      <td>-107.222941</td>\n",
       "      <td>40.196383</td>\n",
       "      <td>64</td>\n",
       "      <td>County Road 19</td>\n",
       "      <td>NaN</td>\n",
       "      <td>HAMILTON</td>\n",
       "      <td>NaN</td>\n",
       "      <td>NaN</td>\n",
       "      <td>0</td>\n",
       "      <td>NaN</td>\n",
       "      <td>a9d8e49d96a7a30e</td>\n",
       "    </tr>\n",
       "    <tr>\n",
       "      <th>6</th>\n",
       "      <td>-107.473271</td>\n",
       "      <td>40.201483</td>\n",
       "      <td>3</td>\n",
       "      <td>County Road 121</td>\n",
       "      <td>NaN</td>\n",
       "      <td>MEEKER</td>\n",
       "      <td>NaN</td>\n",
       "      <td>NaN</td>\n",
       "      <td>0</td>\n",
       "      <td>NaN</td>\n",
       "      <td>71b8e4767fcce989</td>\n",
       "    </tr>\n",
       "    <tr>\n",
       "      <th>7</th>\n",
       "      <td>-107.911794</td>\n",
       "      <td>40.039613</td>\n",
       "      <td>465</td>\n",
       "      <td>4Th Street</td>\n",
       "      <td>NaN</td>\n",
       "      <td>MEEKER</td>\n",
       "      <td>NaN</td>\n",
       "      <td>NaN</td>\n",
       "      <td>81641</td>\n",
       "      <td>NaN</td>\n",
       "      <td>710af212a0857c88</td>\n",
       "    </tr>\n",
       "    <tr>\n",
       "      <th>8</th>\n",
       "      <td>-107.914712</td>\n",
       "      <td>40.049985</td>\n",
       "      <td>1144</td>\n",
       "      <td>Michael Circle</td>\n",
       "      <td>NaN</td>\n",
       "      <td>MEEKER</td>\n",
       "      <td>NaN</td>\n",
       "      <td>NaN</td>\n",
       "      <td>0</td>\n",
       "      <td>NaN</td>\n",
       "      <td>e8d3c799a907a033</td>\n",
       "    </tr>\n",
       "    <tr>\n",
       "      <th>9</th>\n",
       "      <td>-107.918355</td>\n",
       "      <td>40.043927</td>\n",
       "      <td>795</td>\n",
       "      <td>Pine Street</td>\n",
       "      <td>NaN</td>\n",
       "      <td>MEEKER</td>\n",
       "      <td>NaN</td>\n",
       "      <td>NaN</td>\n",
       "      <td>81641</td>\n",
       "      <td>NaN</td>\n",
       "      <td>e1e679512493c1a0</td>\n",
       "    </tr>\n",
       "    <tr>\n",
       "      <th>10</th>\n",
       "      <td>-107.913771</td>\n",
       "      <td>40.045590</td>\n",
       "      <td>1021</td>\n",
       "      <td>Julie Circle</td>\n",
       "      <td>NaN</td>\n",
       "      <td>MEEKER</td>\n",
       "      <td>NaN</td>\n",
       "      <td>NaN</td>\n",
       "      <td>0</td>\n",
       "      <td>NaN</td>\n",
       "      <td>ee0f112a320e61c5</td>\n",
       "    </tr>\n",
       "    <tr>\n",
       "      <th>11</th>\n",
       "      <td>-107.909853</td>\n",
       "      <td>40.042715</td>\n",
       "      <td>259</td>\n",
       "      <td>Hill Street</td>\n",
       "      <td>NaN</td>\n",
       "      <td>MEEKER</td>\n",
       "      <td>NaN</td>\n",
       "      <td>NaN</td>\n",
       "      <td>81641</td>\n",
       "      <td>NaN</td>\n",
       "      <td>2bac5b8b36b730cb</td>\n",
       "    </tr>\n",
       "    <tr>\n",
       "      <th>12</th>\n",
       "      <td>-107.911015</td>\n",
       "      <td>40.057437</td>\n",
       "      <td>901</td>\n",
       "      <td>County Road 11</td>\n",
       "      <td>NaN</td>\n",
       "      <td>MEEKER</td>\n",
       "      <td>NaN</td>\n",
       "      <td>NaN</td>\n",
       "      <td>0</td>\n",
       "      <td>NaN</td>\n",
       "      <td>aa8de853b2dfb3b1</td>\n",
       "    </tr>\n",
       "    <tr>\n",
       "      <th>13</th>\n",
       "      <td>-107.920944</td>\n",
       "      <td>40.041304</td>\n",
       "      <td>711</td>\n",
       "      <td>10Th Street</td>\n",
       "      <td>NaN</td>\n",
       "      <td>MEEKER</td>\n",
       "      <td>NaN</td>\n",
       "      <td>NaN</td>\n",
       "      <td>81641</td>\n",
       "      <td>NaN</td>\n",
       "      <td>350138002765f524</td>\n",
       "    </tr>\n",
       "    <tr>\n",
       "      <th>14</th>\n",
       "      <td>-107.913372</td>\n",
       "      <td>40.054573</td>\n",
       "      <td>1449</td>\n",
       "      <td>Mountain View Road</td>\n",
       "      <td>NaN</td>\n",
       "      <td>MEEKER</td>\n",
       "      <td>NaN</td>\n",
       "      <td>NaN</td>\n",
       "      <td>81641</td>\n",
       "      <td>NaN</td>\n",
       "      <td>08b21cef0db83baa</td>\n",
       "    </tr>\n",
       "  </tbody>\n",
       "</table>\n",
       "</div>"
      ],
      "text/plain": [
       "           LON        LAT NUMBER              STREET UNIT      CITY  DISTRICT  \\\n",
       "0  -108.916154  40.067681   6849                 NaN  NaN   RANGELY       NaN   \n",
       "1  -108.916840  40.068216    NaN                 NaN  NaN   RANGELY       NaN   \n",
       "2  -108.754104  40.091879   2252                 NaN  NaN   RANGELY       NaN   \n",
       "3  -108.750019  40.099442   2538                 NaN  NaN   RANGELY       NaN   \n",
       "4  -108.745891  40.099260   2802          Highway 64  NaN   RANGELY       NaN   \n",
       "5  -107.222941  40.196383     64      County Road 19  NaN  HAMILTON       NaN   \n",
       "6  -107.473271  40.201483      3     County Road 121  NaN    MEEKER       NaN   \n",
       "7  -107.911794  40.039613    465          4Th Street  NaN    MEEKER       NaN   \n",
       "8  -107.914712  40.049985   1144      Michael Circle  NaN    MEEKER       NaN   \n",
       "9  -107.918355  40.043927    795         Pine Street  NaN    MEEKER       NaN   \n",
       "10 -107.913771  40.045590   1021        Julie Circle  NaN    MEEKER       NaN   \n",
       "11 -107.909853  40.042715    259         Hill Street  NaN    MEEKER       NaN   \n",
       "12 -107.911015  40.057437    901      County Road 11  NaN    MEEKER       NaN   \n",
       "13 -107.920944  40.041304    711         10Th Street  NaN    MEEKER       NaN   \n",
       "14 -107.913372  40.054573   1449  Mountain View Road  NaN    MEEKER       NaN   \n",
       "\n",
       "    REGION POSTCODE  ID              HASH  \n",
       "0      NaN        0 NaN  7225222c76e3151e  \n",
       "1      NaN        0 NaN  2610a0c6adf8f59d  \n",
       "2      NaN        0 NaN  5b9bb573939e24fe  \n",
       "3      NaN        0 NaN  de0357268651fc57  \n",
       "4      NaN    81648 NaN  abce82e528541afb  \n",
       "5      NaN        0 NaN  a9d8e49d96a7a30e  \n",
       "6      NaN        0 NaN  71b8e4767fcce989  \n",
       "7      NaN    81641 NaN  710af212a0857c88  \n",
       "8      NaN        0 NaN  e8d3c799a907a033  \n",
       "9      NaN    81641 NaN  e1e679512493c1a0  \n",
       "10     NaN        0 NaN  ee0f112a320e61c5  \n",
       "11     NaN    81641 NaN  2bac5b8b36b730cb  \n",
       "12     NaN        0 NaN  aa8de853b2dfb3b1  \n",
       "13     NaN    81641 NaN  350138002765f524  \n",
       "14     NaN    81641 NaN  08b21cef0db83baa  "
      ]
     },
     "execution_count": 9,
     "metadata": {},
     "output_type": "execute_result"
    }
   ],
   "source": [
    "address.head(15)"
   ]
  },
  {
   "cell_type": "code",
   "execution_count": 5,
   "metadata": {},
   "outputs": [
    {
     "data": {
      "text/html": [
       "<div>\n",
       "<style scoped>\n",
       "    .dataframe tbody tr th:only-of-type {\n",
       "        vertical-align: middle;\n",
       "    }\n",
       "\n",
       "    .dataframe tbody tr th {\n",
       "        vertical-align: top;\n",
       "    }\n",
       "\n",
       "    .dataframe thead th {\n",
       "        text-align: right;\n",
       "    }\n",
       "</style>\n",
       "<table border=\"1\" class=\"dataframe\">\n",
       "  <thead>\n",
       "    <tr style=\"text-align: right;\">\n",
       "      <th></th>\n",
       "      <th>LON</th>\n",
       "      <th>LAT</th>\n",
       "      <th>DISTRICT</th>\n",
       "      <th>POSTCODE</th>\n",
       "      <th>ID</th>\n",
       "    </tr>\n",
       "  </thead>\n",
       "  <tbody>\n",
       "    <tr>\n",
       "      <th>count</th>\n",
       "      <td>274328.000000</td>\n",
       "      <td>274328.000000</td>\n",
       "      <td>0.0</td>\n",
       "      <td>41381.000000</td>\n",
       "      <td>0.0</td>\n",
       "    </tr>\n",
       "    <tr>\n",
       "      <th>mean</th>\n",
       "      <td>-157.839287</td>\n",
       "      <td>21.361650</td>\n",
       "      <td>NaN</td>\n",
       "      <td>85727.105942</td>\n",
       "      <td>NaN</td>\n",
       "    </tr>\n",
       "    <tr>\n",
       "      <th>std</th>\n",
       "      <td>0.772911</td>\n",
       "      <td>0.307495</td>\n",
       "      <td>NaN</td>\n",
       "      <td>31104.728379</td>\n",
       "      <td>NaN</td>\n",
       "    </tr>\n",
       "    <tr>\n",
       "      <th>min</th>\n",
       "      <td>-160.540175</td>\n",
       "      <td>20.579725</td>\n",
       "      <td>NaN</td>\n",
       "      <td>0.000000</td>\n",
       "      <td>NaN</td>\n",
       "    </tr>\n",
       "    <tr>\n",
       "      <th>25%</th>\n",
       "      <td>-158.023225</td>\n",
       "      <td>21.291784</td>\n",
       "      <td>NaN</td>\n",
       "      <td>96732.000000</td>\n",
       "      <td>NaN</td>\n",
       "    </tr>\n",
       "    <tr>\n",
       "      <th>50%</th>\n",
       "      <td>-157.865663</td>\n",
       "      <td>21.353444</td>\n",
       "      <td>NaN</td>\n",
       "      <td>96761.000000</td>\n",
       "      <td>NaN</td>\n",
       "    </tr>\n",
       "    <tr>\n",
       "      <th>75%</th>\n",
       "      <td>-157.753594</td>\n",
       "      <td>21.429002</td>\n",
       "      <td>NaN</td>\n",
       "      <td>96790.000000</td>\n",
       "      <td>NaN</td>\n",
       "    </tr>\n",
       "    <tr>\n",
       "      <th>max</th>\n",
       "      <td>-155.977398</td>\n",
       "      <td>22.234519</td>\n",
       "      <td>NaN</td>\n",
       "      <td>996732.000000</td>\n",
       "      <td>NaN</td>\n",
       "    </tr>\n",
       "  </tbody>\n",
       "</table>\n",
       "</div>"
      ],
      "text/plain": [
       "                 LON            LAT  DISTRICT       POSTCODE   ID\n",
       "count  274328.000000  274328.000000       0.0   41381.000000  0.0\n",
       "mean     -157.839287      21.361650       NaN   85727.105942  NaN\n",
       "std         0.772911       0.307495       NaN   31104.728379  NaN\n",
       "min      -160.540175      20.579725       NaN       0.000000  NaN\n",
       "25%      -158.023225      21.291784       NaN   96732.000000  NaN\n",
       "50%      -157.865663      21.353444       NaN   96761.000000  NaN\n",
       "75%      -157.753594      21.429002       NaN   96790.000000  NaN\n",
       "max      -155.977398      22.234519       NaN  996732.000000  NaN"
      ]
     },
     "execution_count": 5,
     "metadata": {},
     "output_type": "execute_result"
    }
   ],
   "source": [
    "address.describe()"
   ]
  },
  {
   "cell_type": "code",
   "execution_count": 5,
   "metadata": {},
   "outputs": [
    {
     "name": "stdout",
     "output_type": "stream",
     "text": [
      "['LON' 'LAT' 'NUMBER' 'STREET' 'UNIT' 'CITY' 'DISTRICT' 'REGION'\n",
      " 'POSTCODE' 'ID' 'HASH']\n"
     ]
    }
   ],
   "source": [
    "print(address.columns.values)"
   ]
  },
  {
   "cell_type": "code",
   "execution_count": 6,
   "metadata": {},
   "outputs": [
    {
     "data": {
      "text/html": [
       "<div>\n",
       "<style scoped>\n",
       "    .dataframe tbody tr th:only-of-type {\n",
       "        vertical-align: middle;\n",
       "    }\n",
       "\n",
       "    .dataframe tbody tr th {\n",
       "        vertical-align: top;\n",
       "    }\n",
       "\n",
       "    .dataframe thead th {\n",
       "        text-align: right;\n",
       "    }\n",
       "</style>\n",
       "<table border=\"1\" class=\"dataframe\">\n",
       "  <thead>\n",
       "    <tr style=\"text-align: right;\">\n",
       "      <th></th>\n",
       "      <th>LON</th>\n",
       "      <th>LAT</th>\n",
       "      <th>NUMBER</th>\n",
       "      <th>STREET</th>\n",
       "      <th>UNIT</th>\n",
       "      <th>CITY</th>\n",
       "      <th>DISTRICT</th>\n",
       "      <th>REGION</th>\n",
       "      <th>POSTCODE</th>\n",
       "      <th>ID</th>\n",
       "      <th>HASH</th>\n",
       "    </tr>\n",
       "  </thead>\n",
       "  <tbody>\n",
       "    <tr>\n",
       "      <th>0</th>\n",
       "      <td>False</td>\n",
       "      <td>False</td>\n",
       "      <td>False</td>\n",
       "      <td>False</td>\n",
       "      <td>True</td>\n",
       "      <td>False</td>\n",
       "      <td>True</td>\n",
       "      <td>True</td>\n",
       "      <td>True</td>\n",
       "      <td>True</td>\n",
       "      <td>False</td>\n",
       "    </tr>\n",
       "    <tr>\n",
       "      <th>1</th>\n",
       "      <td>False</td>\n",
       "      <td>False</td>\n",
       "      <td>False</td>\n",
       "      <td>False</td>\n",
       "      <td>True</td>\n",
       "      <td>True</td>\n",
       "      <td>True</td>\n",
       "      <td>True</td>\n",
       "      <td>True</td>\n",
       "      <td>True</td>\n",
       "      <td>False</td>\n",
       "    </tr>\n",
       "    <tr>\n",
       "      <th>2</th>\n",
       "      <td>False</td>\n",
       "      <td>False</td>\n",
       "      <td>False</td>\n",
       "      <td>False</td>\n",
       "      <td>True</td>\n",
       "      <td>True</td>\n",
       "      <td>True</td>\n",
       "      <td>True</td>\n",
       "      <td>True</td>\n",
       "      <td>True</td>\n",
       "      <td>False</td>\n",
       "    </tr>\n",
       "    <tr>\n",
       "      <th>3</th>\n",
       "      <td>False</td>\n",
       "      <td>False</td>\n",
       "      <td>False</td>\n",
       "      <td>False</td>\n",
       "      <td>True</td>\n",
       "      <td>True</td>\n",
       "      <td>True</td>\n",
       "      <td>True</td>\n",
       "      <td>True</td>\n",
       "      <td>True</td>\n",
       "      <td>False</td>\n",
       "    </tr>\n",
       "    <tr>\n",
       "      <th>4</th>\n",
       "      <td>False</td>\n",
       "      <td>False</td>\n",
       "      <td>False</td>\n",
       "      <td>False</td>\n",
       "      <td>True</td>\n",
       "      <td>True</td>\n",
       "      <td>True</td>\n",
       "      <td>True</td>\n",
       "      <td>True</td>\n",
       "      <td>True</td>\n",
       "      <td>False</td>\n",
       "    </tr>\n",
       "  </tbody>\n",
       "</table>\n",
       "</div>"
      ],
      "text/plain": [
       "     LON    LAT  NUMBER  STREET  UNIT   CITY  DISTRICT  REGION  POSTCODE  \\\n",
       "0  False  False   False   False  True  False      True    True      True   \n",
       "1  False  False   False   False  True   True      True    True      True   \n",
       "2  False  False   False   False  True   True      True    True      True   \n",
       "3  False  False   False   False  True   True      True    True      True   \n",
       "4  False  False   False   False  True   True      True    True      True   \n",
       "\n",
       "     ID   HASH  \n",
       "0  True  False  \n",
       "1  True  False  \n",
       "2  True  False  \n",
       "3  True  False  \n",
       "4  True  False  "
      ]
     },
     "execution_count": 6,
     "metadata": {},
     "output_type": "execute_result"
    }
   ],
   "source": [
    "address.isna().head()"
   ]
  },
  {
   "cell_type": "code",
   "execution_count": 7,
   "metadata": {},
   "outputs": [
    {
     "name": "stdout",
     "output_type": "stream",
     "text": [
      "LON               0\n",
      "LAT               0\n",
      "NUMBER        21546\n",
      "STREET        28833\n",
      "UNIT        1850949\n",
      "CITY         709913\n",
      "DISTRICT    2190243\n",
      "REGION      2190243\n",
      "POSTCODE     141997\n",
      "ID          2190243\n",
      "HASH              0\n",
      "dtype: int64\n"
     ]
    }
   ],
   "source": [
    "print(address.isna().sum())"
   ]
  },
  {
   "cell_type": "code",
   "execution_count": 7,
   "metadata": {},
   "outputs": [],
   "source": [
    "address = address.drop(['NUMBER','STREET', 'UNIT','CITY', 'DISTRICT', 'REGION', 'POSTCODE', 'ID', 'HASH'], axis=1)"
   ]
  },
  {
   "cell_type": "markdown",
   "metadata": {},
   "source": [
    "export_csv = address.to_csv(r'C:\\Users\\abhil\\Desktop\\Python\\DataSet\\address2.csv', index = None, header=True)"
   ]
  },
  {
   "cell_type": "code",
   "execution_count": 8,
   "metadata": {},
   "outputs": [
    {
     "data": {
      "text/plain": [
       "LON   -157.839287\n",
       "LAT     21.361650\n",
       "dtype: float64"
      ]
     },
     "execution_count": 8,
     "metadata": {},
     "output_type": "execute_result"
    }
   ],
   "source": [
    "address.mean()"
   ]
  },
  {
   "cell_type": "code",
   "execution_count": 9,
   "metadata": {},
   "outputs": [
    {
     "data": {
      "text/plain": [
       "<bound method DataFrame.info of                LON        LAT\n",
       "0      -157.833127  21.300769\n",
       "1      -157.721942  21.289418\n",
       "2      -157.722200  21.288880\n",
       "3      -157.722751  21.290175\n",
       "4      -157.724095  21.370414\n",
       "5      -157.723510  21.369894\n",
       "6      -157.723346  21.370603\n",
       "7      -157.722639  21.369971\n",
       "8      -157.723396  21.369216\n",
       "9      -157.722406  21.369498\n",
       "10     -158.182491  21.438742\n",
       "11     -157.724064  21.394007\n",
       "12     -157.724005  21.394350\n",
       "13     -158.102806  21.591837\n",
       "14     -157.923679  21.648576\n",
       "15     -158.032432  21.404083\n",
       "16     -157.857496  21.481120\n",
       "17     -157.747145  21.402566\n",
       "18     -157.852518  21.482457\n",
       "19     -158.039513  21.644256\n",
       "20     -157.871313  21.309920\n",
       "21     -158.060083  21.333681\n",
       "22     -157.987772  21.388771\n",
       "23     -158.029405  21.403142\n",
       "24     -157.827798  21.346220\n",
       "25     -158.029075  21.685753\n",
       "26     -157.855710  21.333927\n",
       "27     -158.038295  21.521637\n",
       "28     -157.861784  21.348267\n",
       "29     -157.900835  21.374691\n",
       "...            ...        ...\n",
       "274298 -156.504088  20.874526\n",
       "274299 -156.504071  20.874303\n",
       "274300 -156.504087  20.874150\n",
       "274301 -156.504072  20.874013\n",
       "274302 -156.504047  20.873875\n",
       "274303 -156.504022  20.873732\n",
       "274304 -156.504000  20.873584\n",
       "274305 -156.503977  20.873435\n",
       "274306 -156.503963  20.873286\n",
       "274307 -156.503971  20.873096\n",
       "274308 -156.503917  20.872909\n",
       "274309 -156.503900  20.872772\n",
       "274310 -156.503882  20.872635\n",
       "274311 -156.503858  20.872498\n",
       "274312 -156.503832  20.872361\n",
       "274313 -156.503810  20.872224\n",
       "274314 -156.503791  20.872087\n",
       "274315 -156.503791  20.871505\n",
       "274316 -156.504288  20.871431\n",
       "274317 -156.504740  20.871352\n",
       "274318 -156.504492  20.871257\n",
       "274319 -156.272215  20.934316\n",
       "274320 -156.233757  20.929230\n",
       "274321 -156.515102  20.880181\n",
       "274322 -156.465903  20.783612\n",
       "274323 -156.688462  20.947632\n",
       "274324 -156.322287  20.824923\n",
       "274325 -156.297105  20.858882\n",
       "274326 -156.510162  20.921632\n",
       "274327 -156.508367  20.888625\n",
       "\n",
       "[274328 rows x 2 columns]>"
      ]
     },
     "execution_count": 9,
     "metadata": {},
     "output_type": "execute_result"
    }
   ],
   "source": [
    "address.info"
   ]
  },
  {
   "cell_type": "code",
   "execution_count": 10,
   "metadata": {},
   "outputs": [],
   "source": [
    "from sklearn.cluster import KMeans\n",
    "import numpy as np\n",
    "\n",
    "X = np.array(address)\n",
    "kmeans = KMeans(n_clusters=10, random_state=0).fit(X)\n"
   ]
  },
  {
   "cell_type": "code",
   "execution_count": 11,
   "metadata": {},
   "outputs": [
    {
     "data": {
      "text/plain": [
       "array([1, 9, 9, ..., 7, 2, 2])"
      ]
     },
     "execution_count": 11,
     "metadata": {},
     "output_type": "execute_result"
    }
   ],
   "source": [
    "kmeans.labels_"
   ]
  },
  {
   "cell_type": "code",
   "execution_count": 13,
   "metadata": {},
   "outputs": [
    {
     "data": {
      "text/plain": [
       "array([-156.54295542,   20.89514935])"
      ]
     },
     "execution_count": 13,
     "metadata": {},
     "output_type": "execute_result"
    }
   ],
   "source": [
    "kmeans.cluster_centers_[2]"
   ]
  },
  {
   "cell_type": "code",
   "execution_count": 21,
   "metadata": {},
   "outputs": [
    {
     "name": "stdout",
     "output_type": "stream",
     "text": [
      "[-159.37698988   22.08495264]\n",
      "[-157.82741232   21.30694942]\n",
      "[-156.54295542   20.89514935]\n",
      "[-158.00915687   21.53849399]\n",
      "[-157.99935898   21.37863374]\n",
      "[-159.56020689   21.92755484]\n",
      "[-156.05478361   20.74905005]\n",
      "[-156.36169223   20.80688097]\n",
      "[-158.17155891   21.42832332]\n",
      "[-157.75390329   21.37407963]\n"
     ]
    }
   ],
   "source": [
    "for i in range(len(kmeans.cluster_centers_)):\n",
    "    print(kmeans.cluster_centers_[i])\n"
   ]
  },
  {
   "cell_type": "markdown",
   "metadata": {},
   "source": [
    "for i in range(kmeans.cluster_centers_):\n",
    "    for j in range(len(address)):\n",
    "        print(address)"
   ]
  },
  {
   "cell_type": "code",
   "execution_count": 34,
   "metadata": {},
   "outputs": [
    {
     "data": {
      "text/plain": [
       "0"
      ]
     },
     "execution_count": 34,
     "metadata": {},
     "output_type": "execute_result"
    }
   ],
   "source": [
    "LongLatCount = [\n",
    "    [[0,0],0],\n",
    "    [[0,0],0],\n",
    "    [[0,0],0],\n",
    "    [[0,0],0],\n",
    "    [[0,0],0],\n",
    "    [[0,0],0],\n",
    "    [[0,0],0],\n",
    "    [[0,0],0],\n",
    "    [[0,0],0],\n",
    "    [[0,5],0]\n",
    "]\n",
    "LongLatCount[9][1]"
   ]
  },
  {
   "cell_type": "code",
   "execution_count": 36,
   "metadata": {},
   "outputs": [
    {
     "data": {
      "text/plain": [
       "[[[-159.38, 22.08], 74],\n",
       " [[-157.83, 21.31], 807],\n",
       " [[-156.54, 20.9], 0],\n",
       " [[-158.01, 21.54], 0],\n",
       " [[-158.0, 21.38], 495],\n",
       " [[-159.56, 21.93], 10],\n",
       " [[-156.05, 20.75], 0],\n",
       " [[-156.36, 20.81], 28],\n",
       " [[-158.17, 21.43], 98],\n",
       " [[-157.75, 21.37], 22]]"
      ]
     },
     "execution_count": 36,
     "metadata": {},
     "output_type": "execute_result"
    }
   ],
   "source": [
    "for i in range(len(kmeans.cluster_centers_)):\n",
    "    LongLatCount[i][0][0] = round(kmeans.cluster_centers_[i][0],2)\n",
    "    LongLatCount[i][0][1] = round(kmeans.cluster_centers_[i][1],2)\n",
    "    for j in range(len(address)):\n",
    "        if round(address['LON'][j],2)== LongLatCount[i][0][0] and round(address['LAT'][j],2)== LongLatCount[i][0][1]:\n",
    "            LongLatCount[i][1] +=1\n",
    "            \n",
    "LongLatCount"
   ]
  },
  {
   "cell_type": "code",
   "execution_count": 37,
   "metadata": {},
   "outputs": [
    {
     "data": {
      "text/plain": [
       "[[[-159.38, 22.08], 74],\n",
       " [[-157.83, 21.31], 807],\n",
       " [[-156.54, 20.9], 0],\n",
       " [[-158.01, 21.54], 0],\n",
       " [[-158.0, 21.38], 495],\n",
       " [[-159.56, 21.93], 10],\n",
       " [[-156.05, 20.75], 0],\n",
       " [[-156.36, 20.81], 28],\n",
       " [[-158.17, 21.43], 98],\n",
       " [[-157.75, 21.37], 22]]"
      ]
     },
     "execution_count": 37,
     "metadata": {},
     "output_type": "execute_result"
    }
   ],
   "source": [
    "LongLatCount"
   ]
  },
  {
   "cell_type": "code",
   "execution_count": null,
   "metadata": {},
   "outputs": [],
   "source": []
  }
 ],
 "metadata": {
  "kernelspec": {
   "display_name": "Python 3",
   "language": "python",
   "name": "python3"
  },
  "language_info": {
   "codemirror_mode": {
    "name": "ipython",
    "version": 3
   },
   "file_extension": ".py",
   "mimetype": "text/x-python",
   "name": "python",
   "nbconvert_exporter": "python",
   "pygments_lexer": "ipython3",
   "version": "3.6.5"
  }
 },
 "nbformat": 4,
 "nbformat_minor": 2
}
