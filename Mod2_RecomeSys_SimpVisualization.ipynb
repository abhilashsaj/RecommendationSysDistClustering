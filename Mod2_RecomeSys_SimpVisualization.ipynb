{
 "cells": [
  {
   "cell_type": "code",
   "execution_count": 2,
   "metadata": {},
   "outputs": [
    {
     "data": {
      "text/plain": [
       "[[[-159.38, 22.08], 74],\n",
       " [[-157.83, 21.31], 807],\n",
       " [[-156.54, 20.9], 0],\n",
       " [[-158.01, 21.54], 0],\n",
       " [[-158.0, 21.38], 495],\n",
       " [[-159.56, 21.93], 10],\n",
       " [[-156.05, 20.75], 0],\n",
       " [[-156.36, 20.81], 28],\n",
       " [[-158.17, 21.43], 98],\n",
       " [[-157.75, 21.37], 22]]"
      ]
     },
     "execution_count": 2,
     "metadata": {},
     "output_type": "execute_result"
    }
   ],
   "source": [
    "LongLatCount1 = [\n",
    "    [[-159.38, 22.08], 74],\n",
    " [[-157.83, 21.31], 807],\n",
    " [[-156.54, 20.9], 0],\n",
    " [[-158.01, 21.54], 0],\n",
    " [[-158.0, 21.38], 495],\n",
    " [[-159.56, 21.93], 10],\n",
    " [[-156.05, 20.75], 0],\n",
    " [[-156.36, 20.81], 28],\n",
    " [[-158.17, 21.43], 98],\n",
    " [[-157.75, 21.37], 22]\n",
    "]\n",
    "\n",
    "LongLatCount1\n"
   ]
  },
  {
   "cell_type": "code",
   "execution_count": 20,
   "metadata": {},
   "outputs": [
    {
     "data": {
      "text/plain": [
       "[[[-159.38, 22.08], 74],\n",
       " [[-157.83, 21.31], 807],\n",
       " [[-156.54, 20.9], 0],\n",
       " [[-158.01, 21.54], 0],\n",
       " [[-158.0, 21.38], 995],\n",
       " [[-159.56, 21.93], 10],\n",
       " [[-156.05, 20.75], 0],\n",
       " [[-156.36, 20.81], 28],\n",
       " [[-158.17, 21.43], 98],\n",
       " [[-157.75, 21.37], 22]]"
      ]
     },
     "execution_count": 20,
     "metadata": {},
     "output_type": "execute_result"
    }
   ],
   "source": [
    "LongLatCount2 = [\n",
    "    [[-159.38, 22.08], 74],\n",
    " [[-157.83, 21.31], 807],\n",
    " [[-156.54, 20.9], 0],\n",
    " [[-158.01, 21.54], 0],\n",
    " [[-158.0, 21.38], 995],\n",
    " [[-159.56, 21.93], 10],\n",
    " [[-156.05, 20.75], 0],\n",
    " [[-156.36, 20.81], 28],\n",
    " [[-158.17, 21.43], 98],\n",
    " [[-157.75, 21.37], 22]\n",
    "]\n",
    "\n",
    "LongLatCount2\n"
   ]
  },
  {
   "cell_type": "code",
   "execution_count": 23,
   "metadata": {},
   "outputs": [
    {
     "data": {
      "text/plain": [
       "[[[-159.38, 22.08], 74],\n",
       " [[-157.83, 21.31], 7],\n",
       " [[-156.54, 20.9], 0],\n",
       " [[-158.01, 21.54], 0],\n",
       " [[-158.0, 21.38], 5],\n",
       " [[-159.56, 21.93], 10],\n",
       " [[-156.05, 20.75], 0],\n",
       " [[-156.36, 20.81], 28],\n",
       " [[-158.17, 21.43], 98],\n",
       " [[-157.75, 21.37], 22]]"
      ]
     },
     "execution_count": 23,
     "metadata": {},
     "output_type": "execute_result"
    }
   ],
   "source": [
    "LongLatCount3 = [\n",
    "    [[-159.38, 22.08], 74],\n",
    " [[-157.83, 21.31], 7],\n",
    " [[-156.54, 20.9], 0],\n",
    " [[-158.01, 21.54], 0],\n",
    " [[-158.0, 21.38], 5],\n",
    " [[-159.56, 21.93], 10],\n",
    " [[-156.05, 20.75], 0],\n",
    " [[-156.36, 20.81], 28],\n",
    " [[-158.17, 21.43], 98],\n",
    " [[-157.75, 21.37], 22]\n",
    "]\n",
    "\n",
    "LongLatCount3\n"
   ]
  },
  {
   "cell_type": "code",
   "execution_count": 19,
   "metadata": {},
   "outputs": [
    {
     "name": "stdout",
     "output_type": "stream",
     "text": [
      "1\n"
     ]
    }
   ],
   "source": [
    "max1 = LongLatCount1[0][1]\n",
    "max_index1 = 0\n",
    "for i in range(len(LongLatCount1)):\n",
    "    #print(LongLatCount1[i][1])\n",
    "    if LongLatCount1[i][1] >= max1 :\n",
    "        max1 = LongLatCount1[i][1]\n",
    "        max_index1 = i\n",
    "print (max_index1)    "
   ]
  },
  {
   "cell_type": "code",
   "execution_count": 21,
   "metadata": {},
   "outputs": [
    {
     "name": "stdout",
     "output_type": "stream",
     "text": [
      "4\n"
     ]
    }
   ],
   "source": [
    "max2 = LongLatCount2[0][1]\n",
    "max_index2 = 0\n",
    "for i in range(len(LongLatCount2)):\n",
    "    #print(LongLatCount1[i][1])\n",
    "    if LongLatCount2[i][1] >= max2 :\n",
    "        max2 = LongLatCount2[i][1]\n",
    "        max_index2 = i\n",
    "print (max_index2)  "
   ]
  },
  {
   "cell_type": "code",
   "execution_count": 24,
   "metadata": {},
   "outputs": [
    {
     "name": "stdout",
     "output_type": "stream",
     "text": [
      "8\n"
     ]
    }
   ],
   "source": [
    "max3 = LongLatCount3[0][1]\n",
    "max_index3 = 0\n",
    "for i in range(len(LongLatCount3)):\n",
    "    #print(LongLatCount1[i][1])\n",
    "    if LongLatCount3[i][1] >= max3 :\n",
    "        max3 = LongLatCount3[i][1]\n",
    "        max_index3 = i\n",
    "print (max_index3) "
   ]
  },
  {
   "cell_type": "code",
   "execution_count": 26,
   "metadata": {},
   "outputs": [
    {
     "data": {
      "text/plain": [
       "[[-158.17, 21.43], 98]"
      ]
     },
     "execution_count": 26,
     "metadata": {},
     "output_type": "execute_result"
    }
   ],
   "source": [
    "print(LongLatCount1[max_index1])"
   ]
  },
  {
   "cell_type": "code",
   "execution_count": 27,
   "metadata": {},
   "outputs": [
    {
     "data": {
      "text/plain": [
       "[[-158.0, 21.38], 995]"
      ]
     },
     "execution_count": 27,
     "metadata": {},
     "output_type": "execute_result"
    }
   ],
   "source": [
    "print(LongLatCount2[max_index2])"
   ]
  },
  {
   "cell_type": "code",
   "execution_count": 28,
   "metadata": {},
   "outputs": [
    {
     "data": {
      "text/plain": [
       "[[-158.17, 21.43], 98]"
      ]
     },
     "execution_count": 28,
     "metadata": {},
     "output_type": "execute_result"
    }
   ],
   "source": [
    "print(LongLatCount3[max_index3])"
   ]
  },
  {
   "cell_type": "code",
   "execution_count": 29,
   "metadata": {},
   "outputs": [
    {
     "name": "stdout",
     "output_type": "stream",
     "text": [
      "Best Location is:\n"
     ]
    }
   ],
   "source": [
    "print(\"Best Location is: \")"
   ]
  },
  {
   "cell_type": "code",
   "execution_count": 41,
   "metadata": {},
   "outputs": [
    {
     "name": "stdout",
     "output_type": "stream",
     "text": [
      "[-158.0, 21.38]\n"
     ]
    }
   ],
   "source": [
    "import webbrowser\n",
    "\n",
    "if LongLatCount1[max_index1][1] >= LongLatCount2[max_index2][1] and LongLatCount1[max_index1][1] >= LongLatCount3[max_index3][1] :\n",
    "        print(LongLatCount1[max_index1])\n",
    "        long = str(LongLatCount1[max_index1][0][0])\n",
    "        lat = str(LongLatCount1[max_index1][0][1])\n",
    "        url = 'https://www.latlong.net/c/?lat=' + lat + '&long=' + long\n",
    "        #webbrowser.open('https://www.latlong.net/c/?lat=40.067681&long=-108.916154')\n",
    "        webbrowser.open(url)\n",
    "        \n",
    "if LongLatCount2[max_index2][1] >= LongLatCount1[max_index1][1] and LongLatCount2[max_index2][1] >= LongLatCount3[max_index3][1] :\n",
    "        print(LongLatCount2[max_index2][0])\n",
    "        long = str(LongLatCount2[max_index2][0][0])\n",
    "        lat = str(LongLatCount2[max_index2][0][1])\n",
    "        url = 'https://www.latlong.net/c/?lat=' + lat + '&long=' + long\n",
    "        #webbrowser.open('https://www.latlong.net/c/?lat=40.067681&long=-108.916154')\n",
    "        webbrowser.open(url)\n",
    "        \n",
    "if LongLatCount3[max_index3][1] >= LongLatCount1[max_index1][1] and LongLatCount3[max_index3][1] >= LongLatCount1[max_index1][1] :\n",
    "        print(LongLatCount3[max_index3][0])\n",
    "        long = str(LongLatCount3[max_index3][0][0])\n",
    "        lat = str(LongLatCount3[max_index3][0][1])\n",
    "        url = 'https://www.latlong.net/c/?lat=' + lat + '&long=' + long\n",
    "        #webbrowser.open('https://www.latlong.net/c/?lat=40.067681&long=-108.916154')\n",
    "        webbrowser.open(url)\n",
    "        "
   ]
  }
 ],
 "metadata": {
  "kernelspec": {
   "display_name": "Python 3",
   "language": "python",
   "name": "python3"
  },
  "language_info": {
   "codemirror_mode": {
    "name": "ipython",
    "version": 3
   },
   "file_extension": ".py",
   "mimetype": "text/x-python",
   "name": "python",
   "nbconvert_exporter": "python",
   "pygments_lexer": "ipython3",
   "version": "3.6.5"
  }
 },
 "nbformat": 4,
 "nbformat_minor": 2
}
